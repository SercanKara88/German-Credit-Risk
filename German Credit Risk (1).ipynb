{
 "cells": [
  {
   "cell_type": "code",
   "execution_count": 107,
   "metadata": {},
   "outputs": [],
   "source": [
    "# Packages & Libraries\n",
    "import numpy as np\n",
    "import pandas as pd\n",
    "%matplotlib inline\n",
    "import seaborn as sns\n",
    "import matplotlib\n",
    "import matplotlib.pyplot as plt\n",
    "matplotlib.style.use('ggplot')\n",
    "from pandas.plotting import scatter_matrix\n",
    "from sklearn.dummy import DummyClassifier\n",
    "#from sklearn.impute import KNNImputer\n",
    "from sklearn.impute import SimpleImputer\n",
    "from sklearn.model_selection import train_test_split\n",
    "from sklearn.linear_model import LogisticRegression\n",
    "from sklearn import metrics\n",
    "from sklearn.metrics import classification_report\n",
    "from sklearn.svm import SVC\n",
    "from sklearn.metrics import confusion_matrix\n",
    "from sklearn.ensemble import RandomForestClassifier\n",
    "from sklearn.naive_bayes import GaussianNB"
   ]
  },
  {
   "cell_type": "code",
   "execution_count": 108,
   "metadata": {},
   "outputs": [],
   "source": [
    "# pip install -U scikit-learn"
   ]
  },
  {
   "cell_type": "code",
   "execution_count": 109,
   "metadata": {},
   "outputs": [],
   "source": [
    "df = pd.read_csv(\"D:\\german_credit_data.csv\",index_col=\"Unnamed: 0\")"
   ]
  },
  {
   "cell_type": "code",
   "execution_count": 110,
   "metadata": {},
   "outputs": [
    {
     "data": {
      "text/html": [
       "<div>\n",
       "<style scoped>\n",
       "    .dataframe tbody tr th:only-of-type {\n",
       "        vertical-align: middle;\n",
       "    }\n",
       "\n",
       "    .dataframe tbody tr th {\n",
       "        vertical-align: top;\n",
       "    }\n",
       "\n",
       "    .dataframe thead th {\n",
       "        text-align: right;\n",
       "    }\n",
       "</style>\n",
       "<table border=\"1\" class=\"dataframe\">\n",
       "  <thead>\n",
       "    <tr style=\"text-align: right;\">\n",
       "      <th></th>\n",
       "      <th>Age</th>\n",
       "      <th>Sex</th>\n",
       "      <th>Job</th>\n",
       "      <th>Housing</th>\n",
       "      <th>Saving accounts</th>\n",
       "      <th>Checking account</th>\n",
       "      <th>Credit amount</th>\n",
       "      <th>Duration</th>\n",
       "      <th>Purpose</th>\n",
       "      <th>Risk</th>\n",
       "    </tr>\n",
       "  </thead>\n",
       "  <tbody>\n",
       "    <tr>\n",
       "      <th>0</th>\n",
       "      <td>67</td>\n",
       "      <td>male</td>\n",
       "      <td>2</td>\n",
       "      <td>own</td>\n",
       "      <td>NaN</td>\n",
       "      <td>little</td>\n",
       "      <td>1169</td>\n",
       "      <td>6</td>\n",
       "      <td>radio/TV</td>\n",
       "      <td>good</td>\n",
       "    </tr>\n",
       "    <tr>\n",
       "      <th>1</th>\n",
       "      <td>22</td>\n",
       "      <td>female</td>\n",
       "      <td>2</td>\n",
       "      <td>own</td>\n",
       "      <td>little</td>\n",
       "      <td>moderate</td>\n",
       "      <td>5951</td>\n",
       "      <td>48</td>\n",
       "      <td>radio/TV</td>\n",
       "      <td>bad</td>\n",
       "    </tr>\n",
       "    <tr>\n",
       "      <th>2</th>\n",
       "      <td>49</td>\n",
       "      <td>male</td>\n",
       "      <td>1</td>\n",
       "      <td>own</td>\n",
       "      <td>little</td>\n",
       "      <td>NaN</td>\n",
       "      <td>2096</td>\n",
       "      <td>12</td>\n",
       "      <td>education</td>\n",
       "      <td>good</td>\n",
       "    </tr>\n",
       "    <tr>\n",
       "      <th>3</th>\n",
       "      <td>45</td>\n",
       "      <td>male</td>\n",
       "      <td>2</td>\n",
       "      <td>free</td>\n",
       "      <td>little</td>\n",
       "      <td>little</td>\n",
       "      <td>7882</td>\n",
       "      <td>42</td>\n",
       "      <td>furniture/equipment</td>\n",
       "      <td>good</td>\n",
       "    </tr>\n",
       "    <tr>\n",
       "      <th>4</th>\n",
       "      <td>53</td>\n",
       "      <td>male</td>\n",
       "      <td>2</td>\n",
       "      <td>free</td>\n",
       "      <td>little</td>\n",
       "      <td>little</td>\n",
       "      <td>4870</td>\n",
       "      <td>24</td>\n",
       "      <td>car</td>\n",
       "      <td>bad</td>\n",
       "    </tr>\n",
       "  </tbody>\n",
       "</table>\n",
       "</div>"
      ],
      "text/plain": [
       "   Age     Sex  Job Housing Saving accounts Checking account  Credit amount  \\\n",
       "0   67    male    2     own             NaN           little           1169   \n",
       "1   22  female    2     own          little         moderate           5951   \n",
       "2   49    male    1     own          little              NaN           2096   \n",
       "3   45    male    2    free          little           little           7882   \n",
       "4   53    male    2    free          little           little           4870   \n",
       "\n",
       "   Duration              Purpose  Risk  \n",
       "0         6             radio/TV  good  \n",
       "1        48             radio/TV   bad  \n",
       "2        12            education  good  \n",
       "3        42  furniture/equipment  good  \n",
       "4        24                  car   bad  "
      ]
     },
     "execution_count": 110,
     "metadata": {},
     "output_type": "execute_result"
    }
   ],
   "source": [
    "df.head()"
   ]
  },
  {
   "cell_type": "code",
   "execution_count": 111,
   "metadata": {},
   "outputs": [
    {
     "name": "stdout",
     "output_type": "stream",
     "text": [
      "good    700\n",
      "bad     300\n",
      "Name: Risk, dtype: int64\n"
     ]
    }
   ],
   "source": [
    "print(df[\"Risk\"].value_counts())"
   ]
  },
  {
   "cell_type": "code",
   "execution_count": 112,
   "metadata": {},
   "outputs": [],
   "source": [
    "def nans(df): return df[df.isnull().any(axis=1)]"
   ]
  },
  {
   "cell_type": "code",
   "execution_count": 113,
   "metadata": {},
   "outputs": [],
   "source": [
    "df_NaN = nans(df)"
   ]
  },
  {
   "cell_type": "code",
   "execution_count": 114,
   "metadata": {},
   "outputs": [
    {
     "name": "stdout",
     "output_type": "stream",
     "text": [
      "               Age          Job  Credit amount     Duration\n",
      "count  1000.000000  1000.000000    1000.000000  1000.000000\n",
      "mean     35.546000     1.904000    3271.258000    20.903000\n",
      "std      11.375469     0.653614    2822.736876    12.058814\n",
      "min      19.000000     0.000000     250.000000     4.000000\n",
      "25%      27.000000     2.000000    1365.500000    12.000000\n",
      "50%      33.000000     2.000000    2319.500000    18.000000\n",
      "75%      42.000000     2.000000    3972.250000    24.000000\n",
      "max      75.000000     3.000000   18424.000000    72.000000\n",
      "              Age         Job  Credit amount    Duration\n",
      "count  478.000000  478.000000     478.000000  478.000000\n",
      "mean    36.263598    1.935146    3263.081590   20.426778\n",
      "std     10.874237    0.619375    2704.782794   11.582621\n",
      "min     19.000000    0.000000     250.000000    4.000000\n",
      "25%     28.000000    2.000000    1429.000000   12.000000\n",
      "50%     35.000000    2.000000    2290.000000   18.000000\n",
      "75%     42.000000    2.000000    3957.500000   24.000000\n",
      "max     75.000000    3.000000   15653.000000   60.000000\n"
     ]
    }
   ],
   "source": [
    "print(df.describe())\n",
    "\n",
    "\n",
    "print(df_NaN.describe())"
   ]
  },
  {
   "cell_type": "code",
   "execution_count": 115,
   "metadata": {},
   "outputs": [
    {
     "data": {
      "text/plain": [
       "<matplotlib.axes._subplots.AxesSubplot at 0x22efaa39320>"
      ]
     },
     "execution_count": 115,
     "metadata": {},
     "output_type": "execute_result"
    },
    {
     "data": {
      "image/png": "[encoded data removed]",
      "text/plain": [
       "<Figure size 432x288 with 1 Axes>"
      ]
     },
     "metadata": {},
     "output_type": "display_data"
    }
   ],
   "source": [
    "ax = df[\"Age\"].plot.hist()\n",
    "df_NaN[\"Age\"].plot.hist()"
   ]
  },
  {
   "cell_type": "code",
   "execution_count": 116,
   "metadata": {},
   "outputs": [
    {
     "data": {
      "text/plain": [
       "<matplotlib.axes._subplots.AxesSubplot at 0x22efa9ea4a8>"
      ]
     },
     "execution_count": 116,
     "metadata": {},
     "output_type": "execute_result"
    },
    {
     "data": {
      "image/png": "[encoded data removed]",
      "text/plain": [
       "<Figure size 432x288 with 1 Axes>"
      ]
     },
     "metadata": {},
     "output_type": "display_data"
    }
   ],
   "source": [
    "ax = df[\"Job\"].plot.hist()\n",
    "df_NaN[\"Job\"].plot.hist()"
   ]
  },
  {
   "cell_type": "code",
   "execution_count": 117,
   "metadata": {},
   "outputs": [
    {
     "data": {
      "text/plain": [
       "<matplotlib.axes._subplots.AxesSubplot at 0x22efb07dcf8>"
      ]
     },
     "execution_count": 117,
     "metadata": {},
     "output_type": "execute_result"
    },
    {
     "data": {
      "image/png": "[encoded data removed]",
      "text/plain": [
       "<Figure size 432x288 with 1 Axes>"
      ]
     },
     "metadata": {},
     "output_type": "display_data"
    }
   ],
   "source": [
    "ax = df[\"Duration\"].plot.hist()\n",
    "df_NaN[\"Duration\"].plot.hist()"
   ]
  },
  {
   "cell_type": "code",
   "execution_count": 118,
   "metadata": {},
   "outputs": [],
   "source": [
    "#https://stackoverflow.com/questions/33906682/python-classification-without-having-to-impute-missing-values"
   ]
  },
  {
   "cell_type": "code",
   "execution_count": 119,
   "metadata": {},
   "outputs": [
    {
     "data": {
      "text/plain": [
       "Age                   0\n",
       "Sex                   0\n",
       "Job                   0\n",
       "Housing               0\n",
       "Saving accounts     183\n",
       "Checking account    394\n",
       "Credit amount         0\n",
       "Duration              0\n",
       "Purpose               0\n",
       "Risk                  0\n",
       "dtype: int64"
      ]
     },
     "execution_count": 119,
     "metadata": {},
     "output_type": "execute_result"
    }
   ],
   "source": [
    "# The number of NaN Values in dataset\n",
    "df.isna().sum()"
   ]
  },
  {
   "cell_type": "code",
   "execution_count": 120,
   "metadata": {},
   "outputs": [
    {
     "data": {
      "text/html": [
       "<div>\n",
       "<style scoped>\n",
       "    .dataframe tbody tr th:only-of-type {\n",
       "        vertical-align: middle;\n",
       "    }\n",
       "\n",
       "    .dataframe tbody tr th {\n",
       "        vertical-align: top;\n",
       "    }\n",
       "\n",
       "    .dataframe thead th {\n",
       "        text-align: right;\n",
       "    }\n",
       "</style>\n",
       "<table border=\"1\" class=\"dataframe\">\n",
       "  <thead>\n",
       "    <tr style=\"text-align: right;\">\n",
       "      <th></th>\n",
       "      <th>Age</th>\n",
       "      <th>Sex</th>\n",
       "      <th>Job</th>\n",
       "      <th>Housing</th>\n",
       "      <th>Saving_Accounts</th>\n",
       "      <th>Checking_Account</th>\n",
       "      <th>Credit_Amount</th>\n",
       "      <th>Duration</th>\n",
       "      <th>Purpose</th>\n",
       "      <th>Risk</th>\n",
       "    </tr>\n",
       "  </thead>\n",
       "  <tbody>\n",
       "    <tr>\n",
       "      <th>0</th>\n",
       "      <td>67</td>\n",
       "      <td>male</td>\n",
       "      <td>2</td>\n",
       "      <td>own</td>\n",
       "      <td>NaN</td>\n",
       "      <td>little</td>\n",
       "      <td>1169</td>\n",
       "      <td>6</td>\n",
       "      <td>radio/TV</td>\n",
       "      <td>good</td>\n",
       "    </tr>\n",
       "    <tr>\n",
       "      <th>1</th>\n",
       "      <td>22</td>\n",
       "      <td>female</td>\n",
       "      <td>2</td>\n",
       "      <td>own</td>\n",
       "      <td>little</td>\n",
       "      <td>moderate</td>\n",
       "      <td>5951</td>\n",
       "      <td>48</td>\n",
       "      <td>radio/TV</td>\n",
       "      <td>bad</td>\n",
       "    </tr>\n",
       "    <tr>\n",
       "      <th>2</th>\n",
       "      <td>49</td>\n",
       "      <td>male</td>\n",
       "      <td>1</td>\n",
       "      <td>own</td>\n",
       "      <td>little</td>\n",
       "      <td>NaN</td>\n",
       "      <td>2096</td>\n",
       "      <td>12</td>\n",
       "      <td>education</td>\n",
       "      <td>good</td>\n",
       "    </tr>\n",
       "    <tr>\n",
       "      <th>3</th>\n",
       "      <td>45</td>\n",
       "      <td>male</td>\n",
       "      <td>2</td>\n",
       "      <td>free</td>\n",
       "      <td>little</td>\n",
       "      <td>little</td>\n",
       "      <td>7882</td>\n",
       "      <td>42</td>\n",
       "      <td>furniture/equipment</td>\n",
       "      <td>good</td>\n",
       "    </tr>\n",
       "    <tr>\n",
       "      <th>4</th>\n",
       "      <td>53</td>\n",
       "      <td>male</td>\n",
       "      <td>2</td>\n",
       "      <td>free</td>\n",
       "      <td>little</td>\n",
       "      <td>little</td>\n",
       "      <td>4870</td>\n",
       "      <td>24</td>\n",
       "      <td>car</td>\n",
       "      <td>bad</td>\n",
       "    </tr>\n",
       "  </tbody>\n",
       "</table>\n",
       "</div>"
      ],
      "text/plain": [
       "   Age     Sex  Job Housing Saving_Accounts Checking_Account  Credit_Amount  \\\n",
       "0   67    male    2     own             NaN           little           1169   \n",
       "1   22  female    2     own          little         moderate           5951   \n",
       "2   49    male    1     own          little              NaN           2096   \n",
       "3   45    male    2    free          little           little           7882   \n",
       "4   53    male    2    free          little           little           4870   \n",
       "\n",
       "   Duration              Purpose  Risk  \n",
       "0         6             radio/TV  good  \n",
       "1        48             radio/TV   bad  \n",
       "2        12            education  good  \n",
       "3        42  furniture/equipment  good  \n",
       "4        24                  car   bad  "
      ]
     },
     "execution_count": 120,
     "metadata": {},
     "output_type": "execute_result"
    }
   ],
   "source": [
    "# Changing Column Names \n",
    "df = df.rename(columns={'Saving accounts': 'Saving_Accounts','Checking account': 'Checking_Account',\n",
    "                        'Credit amount': 'Credit_Amount'}, \n",
    "               index={'ONE': 'one'})\n",
    "df.head() "
   ]
  },
  {
   "cell_type": "code",
   "execution_count": 121,
   "metadata": {},
   "outputs": [],
   "source": [
    "df['Saving_Accounts']=df['Saving_Accounts'].fillna(value=\"None\")"
   ]
  },
  {
   "cell_type": "code",
   "execution_count": 122,
   "metadata": {},
   "outputs": [],
   "source": [
    "df['Checking_Account']=df['Checking_Account'].fillna(value=\"None\")"
   ]
  },
  {
   "cell_type": "code",
   "execution_count": 123,
   "metadata": {},
   "outputs": [
    {
     "data": {
      "text/html": [
       "<div>\n",
       "<style scoped>\n",
       "    .dataframe tbody tr th:only-of-type {\n",
       "        vertical-align: middle;\n",
       "    }\n",
       "\n",
       "    .dataframe tbody tr th {\n",
       "        vertical-align: top;\n",
       "    }\n",
       "\n",
       "    .dataframe thead th {\n",
       "        text-align: right;\n",
       "    }\n",
       "</style>\n",
       "<table border=\"1\" class=\"dataframe\">\n",
       "  <thead>\n",
       "    <tr style=\"text-align: right;\">\n",
       "      <th></th>\n",
       "      <th>Age</th>\n",
       "      <th>Sex</th>\n",
       "      <th>Job</th>\n",
       "      <th>Housing</th>\n",
       "      <th>Saving_Accounts</th>\n",
       "      <th>Checking_Account</th>\n",
       "      <th>Credit_Amount</th>\n",
       "      <th>Duration</th>\n",
       "      <th>Purpose</th>\n",
       "      <th>Risk</th>\n",
       "    </tr>\n",
       "  </thead>\n",
       "  <tbody>\n",
       "    <tr>\n",
       "      <th>0</th>\n",
       "      <td>67</td>\n",
       "      <td>male</td>\n",
       "      <td>2</td>\n",
       "      <td>own</td>\n",
       "      <td>None</td>\n",
       "      <td>little</td>\n",
       "      <td>1169</td>\n",
       "      <td>6</td>\n",
       "      <td>radio/TV</td>\n",
       "      <td>good</td>\n",
       "    </tr>\n",
       "    <tr>\n",
       "      <th>1</th>\n",
       "      <td>22</td>\n",
       "      <td>female</td>\n",
       "      <td>2</td>\n",
       "      <td>own</td>\n",
       "      <td>little</td>\n",
       "      <td>moderate</td>\n",
       "      <td>5951</td>\n",
       "      <td>48</td>\n",
       "      <td>radio/TV</td>\n",
       "      <td>bad</td>\n",
       "    </tr>\n",
       "    <tr>\n",
       "      <th>2</th>\n",
       "      <td>49</td>\n",
       "      <td>male</td>\n",
       "      <td>1</td>\n",
       "      <td>own</td>\n",
       "      <td>little</td>\n",
       "      <td>None</td>\n",
       "      <td>2096</td>\n",
       "      <td>12</td>\n",
       "      <td>education</td>\n",
       "      <td>good</td>\n",
       "    </tr>\n",
       "    <tr>\n",
       "      <th>3</th>\n",
       "      <td>45</td>\n",
       "      <td>male</td>\n",
       "      <td>2</td>\n",
       "      <td>free</td>\n",
       "      <td>little</td>\n",
       "      <td>little</td>\n",
       "      <td>7882</td>\n",
       "      <td>42</td>\n",
       "      <td>furniture/equipment</td>\n",
       "      <td>good</td>\n",
       "    </tr>\n",
       "    <tr>\n",
       "      <th>4</th>\n",
       "      <td>53</td>\n",
       "      <td>male</td>\n",
       "      <td>2</td>\n",
       "      <td>free</td>\n",
       "      <td>little</td>\n",
       "      <td>little</td>\n",
       "      <td>4870</td>\n",
       "      <td>24</td>\n",
       "      <td>car</td>\n",
       "      <td>bad</td>\n",
       "    </tr>\n",
       "  </tbody>\n",
       "</table>\n",
       "</div>"
      ],
      "text/plain": [
       "   Age     Sex  Job Housing Saving_Accounts Checking_Account  Credit_Amount  \\\n",
       "0   67    male    2     own            None           little           1169   \n",
       "1   22  female    2     own          little         moderate           5951   \n",
       "2   49    male    1     own          little             None           2096   \n",
       "3   45    male    2    free          little           little           7882   \n",
       "4   53    male    2    free          little           little           4870   \n",
       "\n",
       "   Duration              Purpose  Risk  \n",
       "0         6             radio/TV  good  \n",
       "1        48             radio/TV   bad  \n",
       "2        12            education  good  \n",
       "3        42  furniture/equipment  good  \n",
       "4        24                  car   bad  "
      ]
     },
     "execution_count": 123,
     "metadata": {},
     "output_type": "execute_result"
    }
   ],
   "source": [
    "df.head()"
   ]
  },
  {
   "cell_type": "code",
   "execution_count": 124,
   "metadata": {},
   "outputs": [
    {
     "data": {
      "text/plain": [
       "False"
      ]
     },
     "execution_count": 124,
     "metadata": {},
     "output_type": "execute_result"
    }
   ],
   "source": [
    "# Missing Value Check. There isnt any missing value\n",
    "missing_value=df.isnull()\n",
    "\n",
    "any(missing_value[\"Age\"])\n",
    "any(missing_value[\"Sex\"])\n",
    "any(missing_value[\"Job\"])\n",
    "any(missing_value[\"Housing\"])\n",
    "any(missing_value[\"Saving_Accounts\"])\n",
    "any(missing_value[\"Checking_Account\"])\n",
    "any(missing_value[\"Credit_Amount\"])\n",
    "any(missing_value[\"Duration\"])\n",
    "any(missing_value[\"Purpose\"])\n",
    "any(missing_value[\"Risk\"])"
   ]
  },
  {
   "cell_type": "code",
   "execution_count": 125,
   "metadata": {},
   "outputs": [
    {
     "data": {
      "text/plain": [
       "<seaborn.axisgrid.PairGrid at 0x22ef8941cf8>"
      ]
     },
     "execution_count": 125,
     "metadata": {},
     "output_type": "execute_result"
    },
    {
     "data": {
      "image/png": "[encoded data removed]",
      "text/plain": [
       "<Figure size 780.75x720 with 20 Axes>"
      ]
     },
     "metadata": {},
     "output_type": "display_data"
    }
   ],
   "source": [
    "sns.pairplot(df,hue=\"Risk\")"
   ]
  },
  {
   "cell_type": "code",
   "execution_count": 126,
   "metadata": {},
   "outputs": [
    {
     "data": {
      "text/plain": [
       "<matplotlib.axes._subplots.AxesSubplot at 0x22efbb599e8>"
      ]
     },
     "execution_count": 126,
     "metadata": {},
     "output_type": "execute_result"
    },
    {
     "data": {
      "image/png": "[encoded data removed]",
      "text/plain": [
       "<Figure size 432x288 with 1 Axes>"
      ]
     },
     "metadata": {},
     "output_type": "display_data"
    }
   ],
   "source": [
    "# Outlier Detection for Age. \n",
    "sns.boxplot(x=df[\"Age\"],color=\"Orange\")"
   ]
  },
  {
   "cell_type": "code",
   "execution_count": 127,
   "metadata": {},
   "outputs": [
    {
     "name": "stdout",
     "output_type": "stream",
     "text": [
      "Each is customer is important for the company. There isnt outlier\n"
     ]
    },
    {
     "data": {
      "image/png": "[encoded data removed]",
      "text/plain": [
       "<Figure size 432x288 with 1 Axes>"
      ]
     },
     "metadata": {},
     "output_type": "display_data"
    }
   ],
   "source": [
    "# Distribution of Age\n",
    "df[\"Age\"].plot.hist(bins=10,edgecolor=\"K\",color=\"Orange\").autoscale(enable=True,axis=\"both\",tight=True)\n",
    "\n",
    "print(\"Each is customer is important for the company. There isnt outlier\")"
   ]
  },
  {
   "cell_type": "code",
   "execution_count": 128,
   "metadata": {},
   "outputs": [
    {
     "data": {
      "text/plain": [
       "<matplotlib.axes._subplots.AxesSubplot at 0x22efbe825c0>"
      ]
     },
     "execution_count": 128,
     "metadata": {},
     "output_type": "execute_result"
    },
    {
     "data": {
      "image/png": "[encoded data removed]",
      "text/plain": [
       "<Figure size 432x288 with 1 Axes>"
      ]
     },
     "metadata": {},
     "output_type": "display_data"
    }
   ],
   "source": [
    "# Outlier Detection for Credit Amount \n",
    "sns.boxplot(x=df[\"Credit_Amount\"],color=\"Green\")"
   ]
  },
  {
   "cell_type": "code",
   "execution_count": 129,
   "metadata": {},
   "outputs": [
    {
     "name": "stdout",
     "output_type": "stream",
     "text": [
      "Credit amounts higher than 7500 seems outlier however they are also important to the bank\n"
     ]
    },
    {
     "data": {
      "image/png": "[encoded data removed]",
      "text/plain": [
       "<Figure size 432x288 with 1 Axes>"
      ]
     },
     "metadata": {},
     "output_type": "display_data"
    }
   ],
   "source": [
    "# Distribution of Credit Amount\n",
    "df[\"Credit_Amount\"].plot.hist(bins=20,edgecolor=\"K\",color=\"Green\").autoscale(enable=True,axis=\"both\",tight=True)\n",
    "\n",
    "print(\"Credit amounts higher than 7500 seems outlier however they are also important to the bank\")"
   ]
  },
  {
   "cell_type": "code",
   "execution_count": 130,
   "metadata": {},
   "outputs": [
    {
     "data": {
      "text/plain": [
       "<matplotlib.axes._subplots.AxesSubplot at 0x22efbf73048>"
      ]
     },
     "execution_count": 130,
     "metadata": {},
     "output_type": "execute_result"
    },
    {
     "data": {
      "image/png": "[encoded data removed]",
      "text/plain": [
       "<Figure size 432x288 with 1 Axes>"
      ]
     },
     "metadata": {},
     "output_type": "display_data"
    }
   ],
   "source": [
    "# Outlier Detection for Duration. \n",
    "sns.boxplot(x=df[\"Duration\"],color=\"Blue\")"
   ]
  },
  {
   "cell_type": "code",
   "execution_count": 131,
   "metadata": {},
   "outputs": [
    {
     "name": "stdout",
     "output_type": "stream",
     "text": [
      "Consumers mainly choose lower durations.\n"
     ]
    },
    {
     "data": {
      "image/png": "[encoded data removed]",
      "text/plain": [
       "<Figure size 432x288 with 1 Axes>"
      ]
     },
     "metadata": {},
     "output_type": "display_data"
    }
   ],
   "source": [
    "#Bin sayısını 50'ye çıkarttık\n",
    "df[\"Duration\"].plot.hist(bins=30,edgecolor=\"K\",color=\"Blue\").autoscale(enable=True,axis=\"both\",tight=True)\n",
    "print(\"Consumers mainly choose lower durations.\")"
   ]
  },
  {
   "cell_type": "code",
   "execution_count": 132,
   "metadata": {},
   "outputs": [
    {
     "data": {
      "text/html": [
       "<style  type=\"text/css\" >\n",
       "    #T_f7f2e4d4_88b4_11ea_9017_f85971a747ddrow0_col0 {\n",
       "            background-color:  #e5ffe5;\n",
       "            color:  #000000;\n",
       "        }    #T_f7f2e4d4_88b4_11ea_9017_f85971a747ddrow0_col1 {\n",
       "            background-color:  #e5ffe5;\n",
       "            color:  #000000;\n",
       "        }    #T_f7f2e4d4_88b4_11ea_9017_f85971a747ddrow1_col0 {\n",
       "            background-color:  #008000;\n",
       "            color:  #f1f1f1;\n",
       "        }    #T_f7f2e4d4_88b4_11ea_9017_f85971a747ddrow1_col1 {\n",
       "            background-color:  #008000;\n",
       "            color:  #f1f1f1;\n",
       "        }</style><table id=\"T_f7f2e4d4_88b4_11ea_9017_f85971a747dd\" ><thead>    <tr>        <th class=\"index_name level0\" >Risk</th>        <th class=\"col_heading level0 col0\" >bad</th>        <th class=\"col_heading level0 col1\" >good</th>    </tr>    <tr>        <th class=\"index_name level0\" >Sex</th>        <th class=\"blank\" ></th>        <th class=\"blank\" ></th>    </tr></thead><tbody>\n",
       "                <tr>\n",
       "                        <th id=\"T_f7f2e4d4_88b4_11ea_9017_f85971a747ddlevel0_row0\" class=\"row_heading level0 row0\" >female</th>\n",
       "                        <td id=\"T_f7f2e4d4_88b4_11ea_9017_f85971a747ddrow0_col0\" class=\"data row0 col0\" >109</td>\n",
       "                        <td id=\"T_f7f2e4d4_88b4_11ea_9017_f85971a747ddrow0_col1\" class=\"data row0 col1\" >201</td>\n",
       "            </tr>\n",
       "            <tr>\n",
       "                        <th id=\"T_f7f2e4d4_88b4_11ea_9017_f85971a747ddlevel0_row1\" class=\"row_heading level0 row1\" >male</th>\n",
       "                        <td id=\"T_f7f2e4d4_88b4_11ea_9017_f85971a747ddrow1_col0\" class=\"data row1 col0\" >191</td>\n",
       "                        <td id=\"T_f7f2e4d4_88b4_11ea_9017_f85971a747ddrow1_col1\" class=\"data row1 col1\" >499</td>\n",
       "            </tr>\n",
       "    </tbody></table>"
      ],
      "text/plain": [
       "<pandas.io.formats.style.Styler at 0x22efbe82da0>"
      ]
     },
     "execution_count": 132,
     "metadata": {},
     "output_type": "execute_result"
    }
   ],
   "source": [
    "# Pair Comparison for Sex\n",
    "date_int = [\"Sex\", 'Risk']\n",
    "cm = sns.light_palette(\"green\", as_cmap=True)\n",
    "pd.crosstab(df[date_int[0]], df[date_int[1]]).style.background_gradient(cmap = cm)"
   ]
  },
  {
   "cell_type": "code",
   "execution_count": 133,
   "metadata": {},
   "outputs": [
    {
     "data": {
      "text/html": [
       "<style  type=\"text/css\" >\n",
       "    #T_f7f99718_88b4_11ea_929d_f85971a747ddrow0_col0 {\n",
       "            background-color:  #e5ffe5;\n",
       "            color:  #000000;\n",
       "        }    #T_f7f99718_88b4_11ea_929d_f85971a747ddrow0_col1 {\n",
       "            background-color:  #e5ffe5;\n",
       "            color:  #000000;\n",
       "        }    #T_f7f99718_88b4_11ea_929d_f85971a747ddrow1_col0 {\n",
       "            background-color:  #a6dca6;\n",
       "            color:  #000000;\n",
       "        }    #T_f7f99718_88b4_11ea_929d_f85971a747ddrow1_col1 {\n",
       "            background-color:  #a1d9a1;\n",
       "            color:  #000000;\n",
       "        }    #T_f7f99718_88b4_11ea_929d_f85971a747ddrow2_col0 {\n",
       "            background-color:  #008000;\n",
       "            color:  #f1f1f1;\n",
       "        }    #T_f7f99718_88b4_11ea_929d_f85971a747ddrow2_col1 {\n",
       "            background-color:  #008000;\n",
       "            color:  #f1f1f1;\n",
       "        }    #T_f7f99718_88b4_11ea_929d_f85971a747ddrow3_col0 {\n",
       "            background-color:  #aee0ae;\n",
       "            color:  #000000;\n",
       "        }    #T_f7f99718_88b4_11ea_929d_f85971a747ddrow3_col1 {\n",
       "            background-color:  #bae7ba;\n",
       "            color:  #000000;\n",
       "        }</style><table id=\"T_f7f99718_88b4_11ea_929d_f85971a747dd\" ><thead>    <tr>        <th class=\"index_name level0\" >Risk</th>        <th class=\"col_heading level0 col0\" >bad</th>        <th class=\"col_heading level0 col1\" >good</th>    </tr>    <tr>        <th class=\"index_name level0\" >Job</th>        <th class=\"blank\" ></th>        <th class=\"blank\" ></th>    </tr></thead><tbody>\n",
       "                <tr>\n",
       "                        <th id=\"T_f7f99718_88b4_11ea_929d_f85971a747ddlevel0_row0\" class=\"row_heading level0 row0\" >0</th>\n",
       "                        <td id=\"T_f7f99718_88b4_11ea_929d_f85971a747ddrow0_col0\" class=\"data row0 col0\" >7</td>\n",
       "                        <td id=\"T_f7f99718_88b4_11ea_929d_f85971a747ddrow0_col1\" class=\"data row0 col1\" >15</td>\n",
       "            </tr>\n",
       "            <tr>\n",
       "                        <th id=\"T_f7f99718_88b4_11ea_929d_f85971a747ddlevel0_row1\" class=\"row_heading level0 row1\" >1</th>\n",
       "                        <td id=\"T_f7f99718_88b4_11ea_929d_f85971a747ddrow1_col0\" class=\"data row1 col0\" >56</td>\n",
       "                        <td id=\"T_f7f99718_88b4_11ea_929d_f85971a747ddrow1_col1\" class=\"data row1 col1\" >144</td>\n",
       "            </tr>\n",
       "            <tr>\n",
       "                        <th id=\"T_f7f99718_88b4_11ea_929d_f85971a747ddlevel0_row2\" class=\"row_heading level0 row2\" >2</th>\n",
       "                        <td id=\"T_f7f99718_88b4_11ea_929d_f85971a747ddrow2_col0\" class=\"data row2 col0\" >186</td>\n",
       "                        <td id=\"T_f7f99718_88b4_11ea_929d_f85971a747ddrow2_col1\" class=\"data row2 col1\" >444</td>\n",
       "            </tr>\n",
       "            <tr>\n",
       "                        <th id=\"T_f7f99718_88b4_11ea_929d_f85971a747ddlevel0_row3\" class=\"row_heading level0 row3\" >3</th>\n",
       "                        <td id=\"T_f7f99718_88b4_11ea_929d_f85971a747ddrow3_col0\" class=\"data row3 col0\" >51</td>\n",
       "                        <td id=\"T_f7f99718_88b4_11ea_929d_f85971a747ddrow3_col1\" class=\"data row3 col1\" >97</td>\n",
       "            </tr>\n",
       "    </tbody></table>"
      ],
      "text/plain": [
       "<pandas.io.formats.style.Styler at 0x22efbf25e10>"
      ]
     },
     "execution_count": 133,
     "metadata": {},
     "output_type": "execute_result"
    }
   ],
   "source": [
    "# Pair Comparison for Job\n",
    "date_int = [\"Job\", 'Risk']\n",
    "cm = sns.light_palette(\"green\", as_cmap=True)\n",
    "pd.crosstab(df[date_int[0]], df[date_int[1]]).style.background_gradient(cmap = cm)"
   ]
  },
  {
   "cell_type": "code",
   "execution_count": 134,
   "metadata": {},
   "outputs": [
    {
     "data": {
      "text/html": [
       "<style  type=\"text/css\" >\n",
       "    #T_f80071ba_88b4_11ea_9eaa_f85971a747ddrow0_col0 {\n",
       "            background-color:  #e5ffe5;\n",
       "            color:  #000000;\n",
       "        }    #T_f80071ba_88b4_11ea_9eaa_f85971a747ddrow0_col1 {\n",
       "            background-color:  #e5ffe5;\n",
       "            color:  #000000;\n",
       "        }    #T_f80071ba_88b4_11ea_9eaa_f85971a747ddrow1_col0 {\n",
       "            background-color:  #008000;\n",
       "            color:  #f1f1f1;\n",
       "        }    #T_f80071ba_88b4_11ea_9eaa_f85971a747ddrow1_col1 {\n",
       "            background-color:  #008000;\n",
       "            color:  #f1f1f1;\n",
       "        }    #T_f80071ba_88b4_11ea_9eaa_f85971a747ddrow2_col0 {\n",
       "            background-color:  #bce8bc;\n",
       "            color:  #000000;\n",
       "        }    #T_f80071ba_88b4_11ea_9eaa_f85971a747ddrow2_col1 {\n",
       "            background-color:  #d0f3d0;\n",
       "            color:  #000000;\n",
       "        }</style><table id=\"T_f80071ba_88b4_11ea_9eaa_f85971a747dd\" ><thead>    <tr>        <th class=\"index_name level0\" >Risk</th>        <th class=\"col_heading level0 col0\" >bad</th>        <th class=\"col_heading level0 col1\" >good</th>    </tr>    <tr>        <th class=\"index_name level0\" >Housing</th>        <th class=\"blank\" ></th>        <th class=\"blank\" ></th>    </tr></thead><tbody>\n",
       "                <tr>\n",
       "                        <th id=\"T_f80071ba_88b4_11ea_9eaa_f85971a747ddlevel0_row0\" class=\"row_heading level0 row0\" >free</th>\n",
       "                        <td id=\"T_f80071ba_88b4_11ea_9eaa_f85971a747ddrow0_col0\" class=\"data row0 col0\" >44</td>\n",
       "                        <td id=\"T_f80071ba_88b4_11ea_9eaa_f85971a747ddrow0_col1\" class=\"data row0 col1\" >64</td>\n",
       "            </tr>\n",
       "            <tr>\n",
       "                        <th id=\"T_f80071ba_88b4_11ea_9eaa_f85971a747ddlevel0_row1\" class=\"row_heading level0 row1\" >own</th>\n",
       "                        <td id=\"T_f80071ba_88b4_11ea_9eaa_f85971a747ddrow1_col0\" class=\"data row1 col0\" >186</td>\n",
       "                        <td id=\"T_f80071ba_88b4_11ea_9eaa_f85971a747ddrow1_col1\" class=\"data row1 col1\" >527</td>\n",
       "            </tr>\n",
       "            <tr>\n",
       "                        <th id=\"T_f80071ba_88b4_11ea_9eaa_f85971a747ddlevel0_row2\" class=\"row_heading level0 row2\" >rent</th>\n",
       "                        <td id=\"T_f80071ba_88b4_11ea_9eaa_f85971a747ddrow2_col0\" class=\"data row2 col0\" >70</td>\n",
       "                        <td id=\"T_f80071ba_88b4_11ea_9eaa_f85971a747ddrow2_col1\" class=\"data row2 col1\" >109</td>\n",
       "            </tr>\n",
       "    </tbody></table>"
      ],
      "text/plain": [
       "<pandas.io.formats.style.Styler at 0x22efbf73828>"
      ]
     },
     "execution_count": 134,
     "metadata": {},
     "output_type": "execute_result"
    }
   ],
   "source": [
    "# Pair Comparison for Housing \n",
    "date_int = [\"Housing\", 'Risk']\n",
    "cm = sns.light_palette(\"green\", as_cmap=True)\n",
    "pd.crosstab(df[date_int[0]], df[date_int[1]]).style.background_gradient(cmap = cm)"
   ]
  },
  {
   "cell_type": "code",
   "execution_count": 135,
   "metadata": {},
   "outputs": [
    {
     "data": {
      "text/html": [
       "<style  type=\"text/css\" >\n",
       "    #T_f807e518_88b4_11ea_a592_f85971a747ddrow0_col0 {\n",
       "            background-color:  #caf0ca;\n",
       "            color:  #000000;\n",
       "        }    #T_f807e518_88b4_11ea_a592_f85971a747ddrow0_col1 {\n",
       "            background-color:  #9dd79d;\n",
       "            color:  #000000;\n",
       "        }    #T_f807e518_88b4_11ea_a592_f85971a747ddrow1_col0 {\n",
       "            background-color:  #008000;\n",
       "            color:  #f1f1f1;\n",
       "        }    #T_f807e518_88b4_11ea_a592_f85971a747ddrow1_col1 {\n",
       "            background-color:  #008000;\n",
       "            color:  #f1f1f1;\n",
       "        }    #T_f807e518_88b4_11ea_a592_f85971a747ddrow2_col0 {\n",
       "            background-color:  #c8efc8;\n",
       "            color:  #000000;\n",
       "        }    #T_f807e518_88b4_11ea_a592_f85971a747ddrow2_col1 {\n",
       "            background-color:  #d3f5d3;\n",
       "            color:  #000000;\n",
       "        }    #T_f807e518_88b4_11ea_a592_f85971a747ddrow3_col0 {\n",
       "            background-color:  #e0fce0;\n",
       "            color:  #000000;\n",
       "        }    #T_f807e518_88b4_11ea_a592_f85971a747ddrow3_col1 {\n",
       "            background-color:  #dffcdf;\n",
       "            color:  #000000;\n",
       "        }    #T_f807e518_88b4_11ea_a592_f85971a747ddrow4_col0 {\n",
       "            background-color:  #e5ffe5;\n",
       "            color:  #000000;\n",
       "        }    #T_f807e518_88b4_11ea_a592_f85971a747ddrow4_col1 {\n",
       "            background-color:  #e5ffe5;\n",
       "            color:  #000000;\n",
       "        }</style><table id=\"T_f807e518_88b4_11ea_a592_f85971a747dd\" ><thead>    <tr>        <th class=\"index_name level0\" >Risk</th>        <th class=\"col_heading level0 col0\" >bad</th>        <th class=\"col_heading level0 col1\" >good</th>    </tr>    <tr>        <th class=\"index_name level0\" >Saving_Accounts</th>        <th class=\"blank\" ></th>        <th class=\"blank\" ></th>    </tr></thead><tbody>\n",
       "                <tr>\n",
       "                        <th id=\"T_f807e518_88b4_11ea_a592_f85971a747ddlevel0_row0\" class=\"row_heading level0 row0\" >None</th>\n",
       "                        <td id=\"T_f807e518_88b4_11ea_a592_f85971a747ddrow0_col0\" class=\"data row0 col0\" >32</td>\n",
       "                        <td id=\"T_f807e518_88b4_11ea_a592_f85971a747ddrow0_col1\" class=\"data row0 col1\" >151</td>\n",
       "            </tr>\n",
       "            <tr>\n",
       "                        <th id=\"T_f807e518_88b4_11ea_a592_f85971a747ddlevel0_row1\" class=\"row_heading level0 row1\" >little</th>\n",
       "                        <td id=\"T_f807e518_88b4_11ea_a592_f85971a747ddrow1_col0\" class=\"data row1 col0\" >217</td>\n",
       "                        <td id=\"T_f807e518_88b4_11ea_a592_f85971a747ddrow1_col1\" class=\"data row1 col1\" >386</td>\n",
       "            </tr>\n",
       "            <tr>\n",
       "                        <th id=\"T_f807e518_88b4_11ea_a592_f85971a747ddlevel0_row2\" class=\"row_heading level0 row2\" >moderate</th>\n",
       "                        <td id=\"T_f807e518_88b4_11ea_a592_f85971a747ddrow2_col0\" class=\"data row2 col0\" >34</td>\n",
       "                        <td id=\"T_f807e518_88b4_11ea_a592_f85971a747ddrow2_col1\" class=\"data row2 col1\" >69</td>\n",
       "            </tr>\n",
       "            <tr>\n",
       "                        <th id=\"T_f807e518_88b4_11ea_a592_f85971a747ddlevel0_row3\" class=\"row_heading level0 row3\" >quite rich</th>\n",
       "                        <td id=\"T_f807e518_88b4_11ea_a592_f85971a747ddrow3_col0\" class=\"data row3 col0\" >11</td>\n",
       "                        <td id=\"T_f807e518_88b4_11ea_a592_f85971a747ddrow3_col1\" class=\"data row3 col1\" >52</td>\n",
       "            </tr>\n",
       "            <tr>\n",
       "                        <th id=\"T_f807e518_88b4_11ea_a592_f85971a747ddlevel0_row4\" class=\"row_heading level0 row4\" >rich</th>\n",
       "                        <td id=\"T_f807e518_88b4_11ea_a592_f85971a747ddrow4_col0\" class=\"data row4 col0\" >6</td>\n",
       "                        <td id=\"T_f807e518_88b4_11ea_a592_f85971a747ddrow4_col1\" class=\"data row4 col1\" >42</td>\n",
       "            </tr>\n",
       "    </tbody></table>"
      ],
      "text/plain": [
       "<pandas.io.formats.style.Styler at 0x22efbeca898>"
      ]
     },
     "execution_count": 135,
     "metadata": {},
     "output_type": "execute_result"
    }
   ],
   "source": [
    "# Pair Comparison for Saving_Accounts\n",
    "date_int = [\"Saving_Accounts\", 'Risk']\n",
    "cm = sns.light_palette(\"green\", as_cmap=True)\n",
    "pd.crosstab(df[date_int[0]], df[date_int[1]]).style.background_gradient(cmap = cm)"
   ]
  },
  {
   "cell_type": "code",
   "execution_count": 136,
   "metadata": {},
   "outputs": [
    {
     "data": {
      "text/html": [
       "<style  type=\"text/css\" >\n",
       "    #T_f8104d74_88b4_11ea_b342_f85971a747ddrow0_col0 {\n",
       "            background-color:  #a9dea9;\n",
       "            color:  #000000;\n",
       "        }    #T_f8104d74_88b4_11ea_b342_f85971a747ddrow0_col1 {\n",
       "            background-color:  #008000;\n",
       "            color:  #f1f1f1;\n",
       "        }    #T_f8104d74_88b4_11ea_b342_f85971a747ddrow1_col0 {\n",
       "            background-color:  #008000;\n",
       "            color:  #f1f1f1;\n",
       "        }    #T_f8104d74_88b4_11ea_b342_f85971a747ddrow1_col1 {\n",
       "            background-color:  #a0d9a0;\n",
       "            color:  #000000;\n",
       "        }    #T_f8104d74_88b4_11ea_b342_f85971a747ddrow2_col0 {\n",
       "            background-color:  #399f39;\n",
       "            color:  #000000;\n",
       "        }    #T_f8104d74_88b4_11ea_b342_f85971a747ddrow2_col1 {\n",
       "            background-color:  #8dce8d;\n",
       "            color:  #000000;\n",
       "        }    #T_f8104d74_88b4_11ea_b342_f85971a747ddrow3_col0 {\n",
       "            background-color:  #e5ffe5;\n",
       "            color:  #000000;\n",
       "        }    #T_f8104d74_88b4_11ea_b342_f85971a747ddrow3_col1 {\n",
       "            background-color:  #e5ffe5;\n",
       "            color:  #000000;\n",
       "        }</style><table id=\"T_f8104d74_88b4_11ea_b342_f85971a747dd\" ><thead>    <tr>        <th class=\"index_name level0\" >Risk</th>        <th class=\"col_heading level0 col0\" >bad</th>        <th class=\"col_heading level0 col1\" >good</th>    </tr>    <tr>        <th class=\"index_name level0\" >Checking_Account</th>        <th class=\"blank\" ></th>        <th class=\"blank\" ></th>    </tr></thead><tbody>\n",
       "                <tr>\n",
       "                        <th id=\"T_f8104d74_88b4_11ea_b342_f85971a747ddlevel0_row0\" class=\"row_heading level0 row0\" >None</th>\n",
       "                        <td id=\"T_f8104d74_88b4_11ea_b342_f85971a747ddrow0_col0\" class=\"data row0 col0\" >46</td>\n",
       "                        <td id=\"T_f8104d74_88b4_11ea_b342_f85971a747ddrow0_col1\" class=\"data row0 col1\" >348</td>\n",
       "            </tr>\n",
       "            <tr>\n",
       "                        <th id=\"T_f8104d74_88b4_11ea_b342_f85971a747ddlevel0_row1\" class=\"row_heading level0 row1\" >little</th>\n",
       "                        <td id=\"T_f8104d74_88b4_11ea_b342_f85971a747ddrow1_col0\" class=\"data row1 col0\" >135</td>\n",
       "                        <td id=\"T_f8104d74_88b4_11ea_b342_f85971a747ddrow1_col1\" class=\"data row1 col1\" >139</td>\n",
       "            </tr>\n",
       "            <tr>\n",
       "                        <th id=\"T_f8104d74_88b4_11ea_b342_f85971a747ddlevel0_row2\" class=\"row_heading level0 row2\" >moderate</th>\n",
       "                        <td id=\"T_f8104d74_88b4_11ea_b342_f85971a747ddrow2_col0\" class=\"data row2 col0\" >105</td>\n",
       "                        <td id=\"T_f8104d74_88b4_11ea_b342_f85971a747ddrow2_col1\" class=\"data row2 col1\" >164</td>\n",
       "            </tr>\n",
       "            <tr>\n",
       "                        <th id=\"T_f8104d74_88b4_11ea_b342_f85971a747ddlevel0_row3\" class=\"row_heading level0 row3\" >rich</th>\n",
       "                        <td id=\"T_f8104d74_88b4_11ea_b342_f85971a747ddrow3_col0\" class=\"data row3 col0\" >14</td>\n",
       "                        <td id=\"T_f8104d74_88b4_11ea_b342_f85971a747ddrow3_col1\" class=\"data row3 col1\" >49</td>\n",
       "            </tr>\n",
       "    </tbody></table>"
      ],
      "text/plain": [
       "<pandas.io.formats.style.Styler at 0x22efc071908>"
      ]
     },
     "execution_count": 136,
     "metadata": {},
     "output_type": "execute_result"
    }
   ],
   "source": [
    "# Pair Comparison for Checking_Account \n",
    "date_int = [\"Checking_Account\", 'Risk']\n",
    "cm = sns.light_palette(\"green\", as_cmap=True)\n",
    "pd.crosstab(df[date_int[0]], df[date_int[1]]).style.background_gradient(cmap = cm)"
   ]
  },
  {
   "cell_type": "code",
   "execution_count": 137,
   "metadata": {},
   "outputs": [
    {
     "data": {
      "text/html": [
       "<style  type=\"text/css\" >\n",
       "    #T_f81c7a1a_88b4_11ea_af03_f85971a747ddrow0_col0 {\n",
       "            background-color:  #a2daa2;\n",
       "            color:  #000000;\n",
       "        }    #T_f81c7a1a_88b4_11ea_af03_f85971a747ddrow0_col1 {\n",
       "            background-color:  #acdfac;\n",
       "            color:  #000000;\n",
       "        }    #T_f81c7a1a_88b4_11ea_af03_f85971a747ddrow1_col0 {\n",
       "            background-color:  #008000;\n",
       "            color:  #f1f1f1;\n",
       "        }    #T_f81c7a1a_88b4_11ea_af03_f85971a747ddrow1_col1 {\n",
       "            background-color:  #008000;\n",
       "            color:  #f1f1f1;\n",
       "        }    #T_f81c7a1a_88b4_11ea_af03_f85971a747ddrow2_col0 {\n",
       "            background-color:  #e5ffe5;\n",
       "            color:  #000000;\n",
       "        }    #T_f81c7a1a_88b4_11ea_af03_f85971a747ddrow2_col1 {\n",
       "            background-color:  #e5ffe5;\n",
       "            color:  #000000;\n",
       "        }    #T_f81c7a1a_88b4_11ea_af03_f85971a747ddrow3_col0 {\n",
       "            background-color:  #bbe8bb;\n",
       "            color:  #000000;\n",
       "        }    #T_f81c7a1a_88b4_11ea_af03_f85971a747ddrow3_col1 {\n",
       "            background-color:  #c8efc8;\n",
       "            color:  #000000;\n",
       "        }    #T_f81c7a1a_88b4_11ea_af03_f85971a747ddrow4_col0 {\n",
       "            background-color:  #6cbc6c;\n",
       "            color:  #000000;\n",
       "        }    #T_f81c7a1a_88b4_11ea_af03_f85971a747ddrow4_col1 {\n",
       "            background-color:  #6fbd6f;\n",
       "            color:  #000000;\n",
       "        }    #T_f81c7a1a_88b4_11ea_af03_f85971a747ddrow5_col0 {\n",
       "            background-color:  #63b763;\n",
       "            color:  #000000;\n",
       "        }    #T_f81c7a1a_88b4_11ea_af03_f85971a747ddrow5_col1 {\n",
       "            background-color:  #0d870d;\n",
       "            color:  #f1f1f1;\n",
       "        }    #T_f81c7a1a_88b4_11ea_af03_f85971a747ddrow6_col0 {\n",
       "            background-color:  #dcfadc;\n",
       "            color:  #000000;\n",
       "        }    #T_f81c7a1a_88b4_11ea_af03_f85971a747ddrow6_col1 {\n",
       "            background-color:  #defbde;\n",
       "            color:  #000000;\n",
       "        }    #T_f81c7a1a_88b4_11ea_af03_f85971a747ddrow7_col0 {\n",
       "            background-color:  #e4fee4;\n",
       "            color:  #000000;\n",
       "        }    #T_f81c7a1a_88b4_11ea_af03_f85971a747ddrow7_col1 {\n",
       "            background-color:  #e5ffe5;\n",
       "            color:  #000000;\n",
       "        }</style><table id=\"T_f81c7a1a_88b4_11ea_af03_f85971a747dd\" ><thead>    <tr>        <th class=\"index_name level0\" >Risk</th>        <th class=\"col_heading level0 col0\" >bad</th>        <th class=\"col_heading level0 col1\" >good</th>    </tr>    <tr>        <th class=\"index_name level0\" >Purpose</th>        <th class=\"blank\" ></th>        <th class=\"blank\" ></th>    </tr></thead><tbody>\n",
       "                <tr>\n",
       "                        <th id=\"T_f81c7a1a_88b4_11ea_af03_f85971a747ddlevel0_row0\" class=\"row_heading level0 row0\" >business</th>\n",
       "                        <td id=\"T_f81c7a1a_88b4_11ea_af03_f85971a747ddrow0_col0\" class=\"data row0 col0\" >34</td>\n",
       "                        <td id=\"T_f81c7a1a_88b4_11ea_af03_f85971a747ddrow0_col1\" class=\"data row0 col1\" >63</td>\n",
       "            </tr>\n",
       "            <tr>\n",
       "                        <th id=\"T_f81c7a1a_88b4_11ea_af03_f85971a747ddlevel0_row1\" class=\"row_heading level0 row1\" >car</th>\n",
       "                        <td id=\"T_f81c7a1a_88b4_11ea_af03_f85971a747ddrow1_col0\" class=\"data row1 col0\" >106</td>\n",
       "                        <td id=\"T_f81c7a1a_88b4_11ea_af03_f85971a747ddrow1_col1\" class=\"data row1 col1\" >231</td>\n",
       "            </tr>\n",
       "            <tr>\n",
       "                        <th id=\"T_f81c7a1a_88b4_11ea_af03_f85971a747ddlevel0_row2\" class=\"row_heading level0 row2\" >domestic appliances</th>\n",
       "                        <td id=\"T_f81c7a1a_88b4_11ea_af03_f85971a747ddrow2_col0\" class=\"data row2 col0\" >4</td>\n",
       "                        <td id=\"T_f81c7a1a_88b4_11ea_af03_f85971a747ddrow2_col1\" class=\"data row2 col1\" >8</td>\n",
       "            </tr>\n",
       "            <tr>\n",
       "                        <th id=\"T_f81c7a1a_88b4_11ea_af03_f85971a747ddlevel0_row3\" class=\"row_heading level0 row3\" >education</th>\n",
       "                        <td id=\"T_f81c7a1a_88b4_11ea_af03_f85971a747ddrow3_col0\" class=\"data row3 col0\" >23</td>\n",
       "                        <td id=\"T_f81c7a1a_88b4_11ea_af03_f85971a747ddrow3_col1\" class=\"data row3 col1\" >36</td>\n",
       "            </tr>\n",
       "            <tr>\n",
       "                        <th id=\"T_f81c7a1a_88b4_11ea_af03_f85971a747ddlevel0_row4\" class=\"row_heading level0 row4\" >furniture/equipment</th>\n",
       "                        <td id=\"T_f81c7a1a_88b4_11ea_af03_f85971a747ddrow4_col0\" class=\"data row4 col0\" >58</td>\n",
       "                        <td id=\"T_f81c7a1a_88b4_11ea_af03_f85971a747ddrow4_col1\" class=\"data row4 col1\" >123</td>\n",
       "            </tr>\n",
       "            <tr>\n",
       "                        <th id=\"T_f81c7a1a_88b4_11ea_af03_f85971a747ddlevel0_row5\" class=\"row_heading level0 row5\" >radio/TV</th>\n",
       "                        <td id=\"T_f81c7a1a_88b4_11ea_af03_f85971a747ddrow5_col0\" class=\"data row5 col0\" >62</td>\n",
       "                        <td id=\"T_f81c7a1a_88b4_11ea_af03_f85971a747ddrow5_col1\" class=\"data row5 col1\" >218</td>\n",
       "            </tr>\n",
       "            <tr>\n",
       "                        <th id=\"T_f81c7a1a_88b4_11ea_af03_f85971a747ddlevel0_row6\" class=\"row_heading level0 row6\" >repairs</th>\n",
       "                        <td id=\"T_f81c7a1a_88b4_11ea_af03_f85971a747ddrow6_col0\" class=\"data row6 col0\" >8</td>\n",
       "                        <td id=\"T_f81c7a1a_88b4_11ea_af03_f85971a747ddrow6_col1\" class=\"data row6 col1\" >14</td>\n",
       "            </tr>\n",
       "            <tr>\n",
       "                        <th id=\"T_f81c7a1a_88b4_11ea_af03_f85971a747ddlevel0_row7\" class=\"row_heading level0 row7\" >vacation/others</th>\n",
       "                        <td id=\"T_f81c7a1a_88b4_11ea_af03_f85971a747ddrow7_col0\" class=\"data row7 col0\" >5</td>\n",
       "                        <td id=\"T_f81c7a1a_88b4_11ea_af03_f85971a747ddrow7_col1\" class=\"data row7 col1\" >7</td>\n",
       "            </tr>\n",
       "    </tbody></table>"
      ],
      "text/plain": [
       "<pandas.io.formats.style.Styler at 0x22efc07d390>"
      ]
     },
     "execution_count": 137,
     "metadata": {},
     "output_type": "execute_result"
    }
   ],
   "source": [
    "# Pair Comparison for Purpose\n",
    "date_int = [\"Purpose\", 'Risk']\n",
    "cm = sns.light_palette(\"green\", as_cmap=True)\n",
    "pd.crosstab(df[date_int[0]], df[date_int[1]]).style.background_gradient(cmap = cm)"
   ]
  },
  {
   "cell_type": "code",
   "execution_count": 138,
   "metadata": {},
   "outputs": [
    {
     "data": {
      "text/plain": [
       "<seaborn.axisgrid.FacetGrid at 0x22efc07d7f0>"
      ]
     },
     "execution_count": 138,
     "metadata": {},
     "output_type": "execute_result"
    },
    {
     "data": {
      "image/png": "[encoded data removed]",
      "text/plain": [
       "<Figure size 420.75x360 with 1 Axes>"
      ]
     },
     "metadata": {},
     "output_type": "display_data"
    }
   ],
   "source": [
    "# Scatter Plot of Credit Amount & Duration\n",
    "sns.lmplot( x=\"Credit_Amount\", y=\"Duration\", data=df, fit_reg=False, hue='Risk', legend=True)"
   ]
  },
  {
   "cell_type": "code",
   "execution_count": 139,
   "metadata": {},
   "outputs": [
    {
     "data": {
      "text/plain": [
       "<seaborn.axisgrid.FacetGrid at 0x22efc061080>"
      ]
     },
     "execution_count": 139,
     "metadata": {},
     "output_type": "execute_result"
    },
    {
     "data": {
      "image/png": "[encoded data removed]",
      "text/plain": [
       "<Figure size 420.75x360 with 1 Axes>"
      ]
     },
     "metadata": {},
     "output_type": "display_data"
    }
   ],
   "source": [
    "# Scatter Plot of Credit Amount & Age\n",
    "sns.lmplot( x=\"Age\", y=\"Credit_Amount\", data=df, fit_reg=False, hue='Risk', legend=True)"
   ]
  },
  {
   "cell_type": "code",
   "execution_count": 140,
   "metadata": {},
   "outputs": [
    {
     "data": {
      "text/html": [
       "<div>\n",
       "<style scoped>\n",
       "    .dataframe tbody tr th:only-of-type {\n",
       "        vertical-align: middle;\n",
       "    }\n",
       "\n",
       "    .dataframe tbody tr th {\n",
       "        vertical-align: top;\n",
       "    }\n",
       "\n",
       "    .dataframe thead th {\n",
       "        text-align: right;\n",
       "    }\n",
       "</style>\n",
       "<table border=\"1\" class=\"dataframe\">\n",
       "  <thead>\n",
       "    <tr style=\"text-align: right;\">\n",
       "      <th></th>\n",
       "      <th>Age</th>\n",
       "      <th>Sex</th>\n",
       "      <th>Job</th>\n",
       "      <th>Housing</th>\n",
       "      <th>Saving_Accounts</th>\n",
       "      <th>Checking_Account</th>\n",
       "      <th>Credit_Amount</th>\n",
       "      <th>Duration</th>\n",
       "      <th>Purpose</th>\n",
       "      <th>Risk</th>\n",
       "    </tr>\n",
       "  </thead>\n",
       "  <tbody>\n",
       "    <tr>\n",
       "      <th>0</th>\n",
       "      <td>67</td>\n",
       "      <td>male</td>\n",
       "      <td>2</td>\n",
       "      <td>own</td>\n",
       "      <td>0</td>\n",
       "      <td>1</td>\n",
       "      <td>1169</td>\n",
       "      <td>6</td>\n",
       "      <td>radio/TV</td>\n",
       "      <td>0</td>\n",
       "    </tr>\n",
       "    <tr>\n",
       "      <th>1</th>\n",
       "      <td>22</td>\n",
       "      <td>female</td>\n",
       "      <td>2</td>\n",
       "      <td>own</td>\n",
       "      <td>1</td>\n",
       "      <td>2</td>\n",
       "      <td>5951</td>\n",
       "      <td>48</td>\n",
       "      <td>radio/TV</td>\n",
       "      <td>1</td>\n",
       "    </tr>\n",
       "    <tr>\n",
       "      <th>2</th>\n",
       "      <td>49</td>\n",
       "      <td>male</td>\n",
       "      <td>1</td>\n",
       "      <td>own</td>\n",
       "      <td>1</td>\n",
       "      <td>0</td>\n",
       "      <td>2096</td>\n",
       "      <td>12</td>\n",
       "      <td>education</td>\n",
       "      <td>0</td>\n",
       "    </tr>\n",
       "    <tr>\n",
       "      <th>3</th>\n",
       "      <td>45</td>\n",
       "      <td>male</td>\n",
       "      <td>2</td>\n",
       "      <td>free</td>\n",
       "      <td>1</td>\n",
       "      <td>1</td>\n",
       "      <td>7882</td>\n",
       "      <td>42</td>\n",
       "      <td>furniture/equipment</td>\n",
       "      <td>0</td>\n",
       "    </tr>\n",
       "    <tr>\n",
       "      <th>4</th>\n",
       "      <td>53</td>\n",
       "      <td>male</td>\n",
       "      <td>2</td>\n",
       "      <td>free</td>\n",
       "      <td>1</td>\n",
       "      <td>1</td>\n",
       "      <td>4870</td>\n",
       "      <td>24</td>\n",
       "      <td>car</td>\n",
       "      <td>1</td>\n",
       "    </tr>\n",
       "  </tbody>\n",
       "</table>\n",
       "</div>"
      ],
      "text/plain": [
       "   Age     Sex  Job Housing  Saving_Accounts  Checking_Account  Credit_Amount  \\\n",
       "0   67    male    2     own                0                 1           1169   \n",
       "1   22  female    2     own                1                 2           5951   \n",
       "2   49    male    1     own                1                 0           2096   \n",
       "3   45    male    2    free                1                 1           7882   \n",
       "4   53    male    2    free                1                 1           4870   \n",
       "\n",
       "   Duration              Purpose  Risk  \n",
       "0         6             radio/TV     0  \n",
       "1        48             radio/TV     1  \n",
       "2        12            education     0  \n",
       "3        42  furniture/equipment     0  \n",
       "4        24                  car     1  "
      ]
     },
     "execution_count": 140,
     "metadata": {},
     "output_type": "execute_result"
    }
   ],
   "source": [
    "# Converting Categorical Data to Numerical Data (Saving_Accounts, Checking_Account and Risk )\n",
    "\n",
    "cleanup_nums = {\"Saving_Accounts\":     {\"None\": 0,\"little\": 1, \"moderate\": 2, \"rich\": 3, \"quite rich\": 4},\n",
    "               \"Checking_Account\":     {\"None\": 0,\"little\": 1, \"moderate\": 2, \"rich\": 3},\n",
    "               \"Risk\":     {\"bad\": 1, \"good\": 0}}\n",
    "\n",
    "df.replace(cleanup_nums, inplace=True)\n",
    "df.head()"
   ]
  },
  {
   "cell_type": "code",
   "execution_count": 143,
   "metadata": {},
   "outputs": [],
   "source": [
    "#Creating Dummies Variables \n",
    "\n",
    "# Sex\n",
    "df = df.merge(pd.get_dummies(df.Sex, drop_first=True, prefix='Sex'), \n",
    "                            left_index=True, right_index=True)\n",
    "# Job\n",
    "df = df.merge(pd.get_dummies(df.Job, drop_first=True, prefix='Job'), \n",
    "                            left_index=True, right_index=True)\n",
    "# Housing\n",
    "df = df.merge(pd.get_dummies(df.Housing, drop_first=True, prefix='Housing'), \n",
    "                            left_index=True, right_index=True)\n",
    "# Purpose\n",
    "df = df.merge(pd.get_dummies(df.Purpose, drop_first=True, prefix='Purpose'), \n",
    "                            left_index=True, right_index=True)\n",
    "\n"
   ]
  },
  {
   "cell_type": "code",
   "execution_count": 150,
   "metadata": {},
   "outputs": [
    {
     "data": {
      "text/plain": [
       "Index(['Age', 'Saving_Accounts', 'Checking_Account', 'Credit_Amount',\n",
       "       'Duration', 'Risk', 'Sex_male_x', 'Job_1_x', 'Job_2_x', 'Job_3_x',\n",
       "       'Housing_own_x', 'Housing_rent_x', 'Purpose_car_x',\n",
       "       'Purpose_domestic appliances_x', 'Purpose_education_x',\n",
       "       'Purpose_furniture/equipment_x', 'Purpose_radio/TV_x',\n",
       "       'Purpose_repairs_x', 'Purpose_vacation/others_x', 'Sex_male_y',\n",
       "       'Job_1_y', 'Job_2_y', 'Job_3_y', 'Housing_own_y', 'Housing_rent_y',\n",
       "       'Purpose_car_y', 'Purpose_domestic appliances_y', 'Purpose_education_y',\n",
       "       'Purpose_furniture/equipment_y', 'Purpose_radio/TV_y',\n",
       "       'Purpose_repairs_y', 'Purpose_vacation/others_y'],\n",
       "      dtype='object')"
      ]
     },
     "execution_count": 150,
     "metadata": {},
     "output_type": "execute_result"
    }
   ],
   "source": [
    "df.columns"
   ]
  },
  {
   "cell_type": "code",
   "execution_count": 146,
   "metadata": {},
   "outputs": [
    {
     "data": {
      "text/html": [
       "<div>\n",
       "<style scoped>\n",
       "    .dataframe tbody tr th:only-of-type {\n",
       "        vertical-align: middle;\n",
       "    }\n",
       "\n",
       "    .dataframe tbody tr th {\n",
       "        vertical-align: top;\n",
       "    }\n",
       "\n",
       "    .dataframe thead th {\n",
       "        text-align: right;\n",
       "    }\n",
       "</style>\n",
       "<table border=\"1\" class=\"dataframe\">\n",
       "  <thead>\n",
       "    <tr style=\"text-align: right;\">\n",
       "      <th></th>\n",
       "      <th>Age</th>\n",
       "      <th>Saving_Accounts</th>\n",
       "      <th>Checking_Account</th>\n",
       "      <th>Credit_Amount</th>\n",
       "      <th>Duration</th>\n",
       "      <th>Risk</th>\n",
       "      <th>Sex_male_x</th>\n",
       "      <th>Job_1_x</th>\n",
       "      <th>Job_2_x</th>\n",
       "      <th>Job_3_x</th>\n",
       "      <th>...</th>\n",
       "      <th>Job_3_y</th>\n",
       "      <th>Housing_own_y</th>\n",
       "      <th>Housing_rent_y</th>\n",
       "      <th>Purpose_car_y</th>\n",
       "      <th>Purpose_domestic appliances_y</th>\n",
       "      <th>Purpose_education_y</th>\n",
       "      <th>Purpose_furniture/equipment_y</th>\n",
       "      <th>Purpose_radio/TV_y</th>\n",
       "      <th>Purpose_repairs_y</th>\n",
       "      <th>Purpose_vacation/others_y</th>\n",
       "    </tr>\n",
       "  </thead>\n",
       "  <tbody>\n",
       "    <tr>\n",
       "      <th>0</th>\n",
       "      <td>67</td>\n",
       "      <td>0</td>\n",
       "      <td>1</td>\n",
       "      <td>1169</td>\n",
       "      <td>6</td>\n",
       "      <td>0</td>\n",
       "      <td>1</td>\n",
       "      <td>0</td>\n",
       "      <td>1</td>\n",
       "      <td>0</td>\n",
       "      <td>...</td>\n",
       "      <td>0</td>\n",
       "      <td>1</td>\n",
       "      <td>0</td>\n",
       "      <td>0</td>\n",
       "      <td>0</td>\n",
       "      <td>0</td>\n",
       "      <td>0</td>\n",
       "      <td>1</td>\n",
       "      <td>0</td>\n",
       "      <td>0</td>\n",
       "    </tr>\n",
       "    <tr>\n",
       "      <th>1</th>\n",
       "      <td>22</td>\n",
       "      <td>1</td>\n",
       "      <td>2</td>\n",
       "      <td>5951</td>\n",
       "      <td>48</td>\n",
       "      <td>1</td>\n",
       "      <td>0</td>\n",
       "      <td>0</td>\n",
       "      <td>1</td>\n",
       "      <td>0</td>\n",
       "      <td>...</td>\n",
       "      <td>0</td>\n",
       "      <td>1</td>\n",
       "      <td>0</td>\n",
       "      <td>0</td>\n",
       "      <td>0</td>\n",
       "      <td>0</td>\n",
       "      <td>0</td>\n",
       "      <td>1</td>\n",
       "      <td>0</td>\n",
       "      <td>0</td>\n",
       "    </tr>\n",
       "    <tr>\n",
       "      <th>2</th>\n",
       "      <td>49</td>\n",
       "      <td>1</td>\n",
       "      <td>0</td>\n",
       "      <td>2096</td>\n",
       "      <td>12</td>\n",
       "      <td>0</td>\n",
       "      <td>1</td>\n",
       "      <td>1</td>\n",
       "      <td>0</td>\n",
       "      <td>0</td>\n",
       "      <td>...</td>\n",
       "      <td>0</td>\n",
       "      <td>1</td>\n",
       "      <td>0</td>\n",
       "      <td>0</td>\n",
       "      <td>0</td>\n",
       "      <td>1</td>\n",
       "      <td>0</td>\n",
       "      <td>0</td>\n",
       "      <td>0</td>\n",
       "      <td>0</td>\n",
       "    </tr>\n",
       "    <tr>\n",
       "      <th>3</th>\n",
       "      <td>45</td>\n",
       "      <td>1</td>\n",
       "      <td>1</td>\n",
       "      <td>7882</td>\n",
       "      <td>42</td>\n",
       "      <td>0</td>\n",
       "      <td>1</td>\n",
       "      <td>0</td>\n",
       "      <td>1</td>\n",
       "      <td>0</td>\n",
       "      <td>...</td>\n",
       "      <td>0</td>\n",
       "      <td>0</td>\n",
       "      <td>0</td>\n",
       "      <td>0</td>\n",
       "      <td>0</td>\n",
       "      <td>0</td>\n",
       "      <td>1</td>\n",
       "      <td>0</td>\n",
       "      <td>0</td>\n",
       "      <td>0</td>\n",
       "    </tr>\n",
       "    <tr>\n",
       "      <th>4</th>\n",
       "      <td>53</td>\n",
       "      <td>1</td>\n",
       "      <td>1</td>\n",
       "      <td>4870</td>\n",
       "      <td>24</td>\n",
       "      <td>1</td>\n",
       "      <td>1</td>\n",
       "      <td>0</td>\n",
       "      <td>1</td>\n",
       "      <td>0</td>\n",
       "      <td>...</td>\n",
       "      <td>0</td>\n",
       "      <td>0</td>\n",
       "      <td>0</td>\n",
       "      <td>1</td>\n",
       "      <td>0</td>\n",
       "      <td>0</td>\n",
       "      <td>0</td>\n",
       "      <td>0</td>\n",
       "      <td>0</td>\n",
       "      <td>0</td>\n",
       "    </tr>\n",
       "  </tbody>\n",
       "</table>\n",
       "<p>5 rows × 32 columns</p>\n",
       "</div>"
      ],
      "text/plain": [
       "   Age  Saving_Accounts  Checking_Account  Credit_Amount  Duration  Risk  \\\n",
       "0   67                0                 1           1169         6     0   \n",
       "1   22                1                 2           5951        48     1   \n",
       "2   49                1                 0           2096        12     0   \n",
       "3   45                1                 1           7882        42     0   \n",
       "4   53                1                 1           4870        24     1   \n",
       "\n",
       "   Sex_male_x  Job_1_x  Job_2_x  Job_3_x  ...  Job_3_y  Housing_own_y  \\\n",
       "0           1        0        1        0  ...        0              1   \n",
       "1           0        0        1        0  ...        0              1   \n",
       "2           1        1        0        0  ...        0              1   \n",
       "3           1        0        1        0  ...        0              0   \n",
       "4           1        0        1        0  ...        0              0   \n",
       "\n",
       "   Housing_rent_y  Purpose_car_y  Purpose_domestic appliances_y  \\\n",
       "0               0              0                              0   \n",
       "1               0              0                              0   \n",
       "2               0              0                              0   \n",
       "3               0              0                              0   \n",
       "4               0              1                              0   \n",
       "\n",
       "   Purpose_education_y  Purpose_furniture/equipment_y  Purpose_radio/TV_y  \\\n",
       "0                    0                              0                   1   \n",
       "1                    0                              0                   1   \n",
       "2                    1                              0                   0   \n",
       "3                    0                              1                   0   \n",
       "4                    0                              0                   0   \n",
       "\n",
       "   Purpose_repairs_y  Purpose_vacation/others_y  \n",
       "0                  0                          0  \n",
       "1                  0                          0  \n",
       "2                  0                          0  \n",
       "3                  0                          0  \n",
       "4                  0                          0  \n",
       "\n",
       "[5 rows x 32 columns]"
      ]
     },
     "execution_count": 146,
     "metadata": {},
     "output_type": "execute_result"
    }
   ],
   "source": [
    "df.head()"
   ]
  },
  {
   "cell_type": "code",
   "execution_count": 147,
   "metadata": {},
   "outputs": [
    {
     "data": {
      "text/html": [
       "<div>\n",
       "<style scoped>\n",
       "    .dataframe tbody tr th:only-of-type {\n",
       "        vertical-align: middle;\n",
       "    }\n",
       "\n",
       "    .dataframe tbody tr th {\n",
       "        vertical-align: top;\n",
       "    }\n",
       "\n",
       "    .dataframe thead th {\n",
       "        text-align: right;\n",
       "    }\n",
       "</style>\n",
       "<table border=\"1\" class=\"dataframe\">\n",
       "  <thead>\n",
       "    <tr style=\"text-align: right;\">\n",
       "      <th></th>\n",
       "      <th>Age</th>\n",
       "      <th>Saving_Accounts</th>\n",
       "      <th>Checking_Account</th>\n",
       "      <th>Credit_Amount</th>\n",
       "      <th>Duration</th>\n",
       "      <th>Risk</th>\n",
       "      <th>Sex_male_x</th>\n",
       "      <th>Job_1_x</th>\n",
       "      <th>Job_2_x</th>\n",
       "      <th>Job_3_x</th>\n",
       "      <th>...</th>\n",
       "      <th>Job_3_y</th>\n",
       "      <th>Housing_own_y</th>\n",
       "      <th>Housing_rent_y</th>\n",
       "      <th>Purpose_car_y</th>\n",
       "      <th>Purpose_domestic appliances_y</th>\n",
       "      <th>Purpose_education_y</th>\n",
       "      <th>Purpose_furniture/equipment_y</th>\n",
       "      <th>Purpose_radio/TV_y</th>\n",
       "      <th>Purpose_repairs_y</th>\n",
       "      <th>Purpose_vacation/others_y</th>\n",
       "    </tr>\n",
       "  </thead>\n",
       "  <tbody>\n",
       "  </tbody>\n",
       "</table>\n",
       "<p>0 rows × 32 columns</p>\n",
       "</div>"
      ],
      "text/plain": [
       "Empty DataFrame\n",
       "Columns: [Age, Saving_Accounts, Checking_Account, Credit_Amount, Duration, Risk, Sex_male_x, Job_1_x, Job_2_x, Job_3_x, Housing_own_x, Housing_rent_x, Purpose_car_x, Purpose_domestic appliances_x, Purpose_education_x, Purpose_furniture/equipment_x, Purpose_radio/TV_x, Purpose_repairs_x, Purpose_vacation/others_x, Sex_male_y, Job_1_y, Job_2_y, Job_3_y, Housing_own_y, Housing_rent_y, Purpose_car_y, Purpose_domestic appliances_y, Purpose_education_y, Purpose_furniture/equipment_y, Purpose_radio/TV_y, Purpose_repairs_y, Purpose_vacation/others_y]\n",
       "Index: []\n",
       "\n",
       "[0 rows x 32 columns]"
      ]
     },
     "execution_count": 147,
     "metadata": {},
     "output_type": "execute_result"
    }
   ],
   "source": [
    "nans(df)\n"
   ]
  },
  {
   "cell_type": "code",
   "execution_count": 151,
   "metadata": {},
   "outputs": [],
   "source": [
    "# Splitting the Data with the Ratio of %80\n",
    "\n",
    "X = df[['Age', 'Saving_Accounts', 'Checking_Account', 'Credit_Amount',\n",
    "       'Duration', 'Sex_male_x', 'Job_1_x', 'Job_2_x', 'Job_3_x',\n",
    "       'Housing_own_x', 'Housing_rent_x', 'Purpose_car_x',\n",
    "       'Purpose_domestic appliances_x', 'Purpose_education_x',\n",
    "       'Purpose_furniture/equipment_x', 'Purpose_radio/TV_x',\n",
    "       'Purpose_repairs_x', 'Purpose_vacation/others_x', 'Sex_male_y',\n",
    "       'Job_1_y', 'Job_2_y', 'Job_3_y', 'Housing_own_y', 'Housing_rent_y',\n",
    "       'Purpose_car_y', 'Purpose_domestic appliances_y', 'Purpose_education_y',\n",
    "       'Purpose_furniture/equipment_y', 'Purpose_radio/TV_y',\n",
    "       'Purpose_repairs_y', 'Purpose_vacation/others_y']]\n",
    "y = df[\"Risk\"]\n",
    "X_train, X_test, y_train, y_test = train_test_split(X, y, test_size=0.8, random_state=0)"
   ]
  },
  {
   "cell_type": "code",
   "execution_count": 152,
   "metadata": {},
   "outputs": [
    {
     "name": "stderr",
     "output_type": "stream",
     "text": [
      "C:\\ProgramData\\Anaconda3\\lib\\site-packages\\sklearn\\linear_model\\logistic.py:433: FutureWarning: Default solver will be changed to 'lbfgs' in 0.22. Specify a solver to silence this warning.\n",
      "  FutureWarning)\n"
     ]
    },
    {
     "data": {
      "text/plain": [
       "LogisticRegression(C=1.0, class_weight=None, dual=False, fit_intercept=True,\n",
       "          intercept_scaling=1, max_iter=100, multi_class='warn',\n",
       "          n_jobs=None, penalty='l2', random_state=None, solver='warn',\n",
       "          tol=0.0001, verbose=0, warm_start=False)"
      ]
     },
     "execution_count": 152,
     "metadata": {},
     "output_type": "execute_result"
    }
   ],
   "source": [
    "# 1- Logistic Regression Classification Model \n",
    "# Building the Model on the Train data\n",
    "logreg = LogisticRegression()\n",
    "logreg.fit(X_train, y_train)"
   ]
  },
  {
   "cell_type": "code",
   "execution_count": 153,
   "metadata": {},
   "outputs": [
    {
     "name": "stdout",
     "output_type": "stream",
     "text": [
      "Accuracy of Logistic Regression Classifier on Test Data: 0.71\n"
     ]
    }
   ],
   "source": [
    "# Testing the Model on the Test data (X_test)\n",
    "y_pred = logreg.predict(X_test)\n",
    "print(\"Accuracy of Logistic Regression Classifier on Test Data: {:.2f}\".format(logreg.score(X_test, y_test)))"
   ]
  },
  {
   "cell_type": "code",
   "execution_count": 154,
   "metadata": {},
   "outputs": [
    {
     "name": "stdout",
     "output_type": "stream",
     "text": [
      "Classification Report of Logistic Regression\n",
      "              precision    recall  f1-score   support\n",
      "\n",
      "           0       0.75      0.89      0.81       563\n",
      "           1       0.51      0.28      0.36       237\n",
      "\n",
      "   micro avg       0.71      0.71      0.71       800\n",
      "   macro avg       0.63      0.58      0.59       800\n",
      "weighted avg       0.68      0.71      0.68       800\n",
      "\n"
     ]
    }
   ],
   "source": [
    "# Classification Report of Logistic Regression\n",
    "# Comparing the Results (y_pred) with the untouched Test Data (y_test)\n",
    "\n",
    "print(\"Classification Report of Logistic Regression\")\n",
    "print(classification_report(y_test, y_pred))"
   ]
  },
  {
   "cell_type": "code",
   "execution_count": 155,
   "metadata": {},
   "outputs": [
    {
     "name": "stdout",
     "output_type": "stream",
     "text": [
      "Confusion Matrix of Logistic Regression\n"
     ]
    },
    {
     "data": {
      "text/plain": [
       "array([[499,  64],\n",
       "       [170,  67]], dtype=int64)"
      ]
     },
     "execution_count": 155,
     "metadata": {},
     "output_type": "execute_result"
    }
   ],
   "source": [
    "# Confusion Matrix of Logistic Regression\n",
    "print(\"Confusion Matrix of Logistic Regression\")\n",
    "confusion_matrix(y_test, y_pred)"
   ]
  },
  {
   "cell_type": "code",
   "execution_count": 156,
   "metadata": {},
   "outputs": [
    {
     "data": {
      "text/plain": [
       "SVC(C=10, cache_size=200, class_weight=None, coef0=0.0,\n",
       "  decision_function_shape='ovr', degree=3, gamma=0.5, kernel='rbf',\n",
       "  max_iter=-1, probability=False, random_state=None, shrinking=True,\n",
       "  tol=0.001, verbose=False)"
      ]
     },
     "execution_count": 156,
     "metadata": {},
     "output_type": "execute_result"
    }
   ],
   "source": [
    "# 2- Support Vector Machine\n",
    "# Building the Model on the Train data\n",
    "\n",
    "clf = SVC(C= 10, gamma = 0.5 )\n",
    "clf.fit(X_train , y_train)"
   ]
  },
  {
   "cell_type": "code",
   "execution_count": 157,
   "metadata": {},
   "outputs": [
    {
     "name": "stdout",
     "output_type": "stream",
     "text": [
      "Accuracy of SVM Classifier on Test Data: 0.70\n"
     ]
    }
   ],
   "source": [
    "# Testing the Model on the Test data (X_test)\n",
    "y_pred = clf.predict(X_test)\n",
    "print(\"Accuracy of SVM Classifier on Test Data: {:.2f}\".format(clf.score(X_test, y_test)))"
   ]
  },
  {
   "cell_type": "code",
   "execution_count": 158,
   "metadata": {},
   "outputs": [
    {
     "name": "stdout",
     "output_type": "stream",
     "text": [
      "Classification Report of SVC\n",
      "              precision    recall  f1-score   support\n",
      "\n",
      "           0       0.70      1.00      0.83       563\n",
      "           1       0.00      0.00      0.00       237\n",
      "\n",
      "   micro avg       0.70      0.70      0.70       800\n",
      "   macro avg       0.35      0.50      0.41       800\n",
      "weighted avg       0.50      0.70      0.58       800\n",
      "\n"
     ]
    },
    {
     "name": "stderr",
     "output_type": "stream",
     "text": [
      "C:\\ProgramData\\Anaconda3\\lib\\site-packages\\sklearn\\metrics\\classification.py:1143: UndefinedMetricWarning: Precision and F-score are ill-defined and being set to 0.0 in labels with no predicted samples.\n",
      "  'precision', 'predicted', average, warn_for)\n"
     ]
    }
   ],
   "source": [
    "# Classification Report of SVC\n",
    "# Comparing the Results (y_pred) with the untouched Test Data (y_test)\n",
    "\n",
    "print(\"Classification Report of SVC\")\n",
    "print(classification_report(y_test, y_pred))"
   ]
  },
  {
   "cell_type": "code",
   "execution_count": 159,
   "metadata": {},
   "outputs": [
    {
     "name": "stdout",
     "output_type": "stream",
     "text": [
      "Confusion Matrix of SVM\n"
     ]
    },
    {
     "data": {
      "text/plain": [
       "array([[563,   0],\n",
       "       [237,   0]], dtype=int64)"
      ]
     },
     "execution_count": 159,
     "metadata": {},
     "output_type": "execute_result"
    }
   ],
   "source": [
    "# Confusion Matrix of SVM\n",
    "print(\"Confusion Matrix of SVM\")\n",
    "confusion_matrix(y_test, y_pred)"
   ]
  },
  {
   "cell_type": "code",
   "execution_count": 160,
   "metadata": {},
   "outputs": [
    {
     "data": {
      "text/plain": [
       "RandomForestClassifier(bootstrap=True, class_weight=None, criterion='entropy',\n",
       "            max_depth=None, max_features='auto', max_leaf_nodes=None,\n",
       "            min_impurity_decrease=0.0, min_impurity_split=None,\n",
       "            min_samples_leaf=1, min_samples_split=2,\n",
       "            min_weight_fraction_leaf=0.0, n_estimators=10, n_jobs=None,\n",
       "            oob_score=False, random_state=0, verbose=0, warm_start=False)"
      ]
     },
     "execution_count": 160,
     "metadata": {},
     "output_type": "execute_result"
    }
   ],
   "source": [
    "# 3- Random Forest\n",
    "classifier = RandomForestClassifier(n_estimators = 10, criterion = 'entropy', random_state = 0)\n",
    "classifier.fit(X_train, y_train)"
   ]
  },
  {
   "cell_type": "code",
   "execution_count": 161,
   "metadata": {},
   "outputs": [
    {
     "name": "stdout",
     "output_type": "stream",
     "text": [
      "Accuracy of Random Forest Classifier on Test Data: 0.71\n"
     ]
    }
   ],
   "source": [
    "# Testing the Model on the Test data (X_test)\n",
    "y_pred = classifier.predict(X_test)\n",
    "print(\"Accuracy of Random Forest Classifier on Test Data: {:.2f}\".format(classifier.score(X_test, y_test)))"
   ]
  },
  {
   "cell_type": "code",
   "execution_count": 162,
   "metadata": {},
   "outputs": [
    {
     "name": "stdout",
     "output_type": "stream",
     "text": [
      "Classification Report of Random Forest\n",
      "              precision    recall  f1-score   support\n",
      "\n",
      "           0       0.74      0.89      0.81       563\n",
      "           1       0.51      0.26      0.35       237\n",
      "\n",
      "   micro avg       0.71      0.71      0.71       800\n",
      "   macro avg       0.63      0.58      0.58       800\n",
      "weighted avg       0.67      0.71      0.67       800\n",
      "\n"
     ]
    }
   ],
   "source": [
    "# Classification Report of Random Forest\n",
    "# Comparing the Results (y_pred) with the untouched Test Data (y_test)\n",
    "\n",
    "print(\"Classification Report of Random Forest\")\n",
    "print(classification_report(y_test, y_pred))"
   ]
  },
  {
   "cell_type": "code",
   "execution_count": 163,
   "metadata": {},
   "outputs": [
    {
     "name": "stdout",
     "output_type": "stream",
     "text": [
      "Confusion Matrix of Random Forest\n"
     ]
    },
    {
     "data": {
      "text/plain": [
       "array([[503,  60],\n",
       "       [175,  62]], dtype=int64)"
      ]
     },
     "execution_count": 163,
     "metadata": {},
     "output_type": "execute_result"
    }
   ],
   "source": [
    "# Confusion Matrix of Random Forest\n",
    "print(\"Confusion Matrix of Random Forest\")\n",
    "confusion_matrix(y_test, y_pred)"
   ]
  },
  {
   "cell_type": "code",
   "execution_count": 164,
   "metadata": {},
   "outputs": [
    {
     "data": {
      "text/plain": [
       "GaussianNB(priors=None, var_smoothing=1e-09)"
      ]
     },
     "execution_count": 164,
     "metadata": {},
     "output_type": "execute_result"
    }
   ],
   "source": [
    "# 4- Naive Bayes \n",
    "classifier = GaussianNB()\n",
    "classifier.fit(X_train, y_train)\n"
   ]
  },
  {
   "cell_type": "code",
   "execution_count": 165,
   "metadata": {},
   "outputs": [
    {
     "name": "stdout",
     "output_type": "stream",
     "text": [
      "Accuracy of Naive Bayes Classifier on Test Data: 0.67\n"
     ]
    }
   ],
   "source": [
    "# Testing the Model on the Test data (X_test)\n",
    "y_pred = classifier.predict(X_test)\n",
    "print(\"Accuracy of Naive Bayes Classifier on Test Data: {:.2f}\".format(classifier.score(X_test, y_test)))"
   ]
  },
  {
   "cell_type": "code",
   "execution_count": 166,
   "metadata": {},
   "outputs": [
    {
     "name": "stdout",
     "output_type": "stream",
     "text": [
      "Classification Report of Naive Bayes\n",
      "              precision    recall  f1-score   support\n",
      "\n",
      "           0       0.75      0.79      0.77       563\n",
      "           1       0.43      0.38      0.40       237\n",
      "\n",
      "   micro avg       0.67      0.67      0.67       800\n",
      "   macro avg       0.59      0.58      0.58       800\n",
      "weighted avg       0.65      0.67      0.66       800\n",
      "\n"
     ]
    }
   ],
   "source": [
    "# Classification Report of Naive Bayes\n",
    "# Comparing the Results (y_pred) with the untouched Test Data (y_test)\n",
    "\n",
    "print(\"Classification Report of Naive Bayes\")\n",
    "print(classification_report(y_test, y_pred))"
   ]
  },
  {
   "cell_type": "code",
   "execution_count": 167,
   "metadata": {},
   "outputs": [
    {
     "name": "stdout",
     "output_type": "stream",
     "text": [
      "Confusion Matrix of Naive Bayes\n"
     ]
    },
    {
     "data": {
      "text/plain": [
       "array([[444, 119],\n",
       "       [148,  89]], dtype=int64)"
      ]
     },
     "execution_count": 167,
     "metadata": {},
     "output_type": "execute_result"
    }
   ],
   "source": [
    "# Confusion Matrix of Naive Bayes\n",
    "print(\"Confusion Matrix of Naive Bayes\")\n",
    "confusion_matrix(y_test, y_pred)"
   ]
  },
  {
   "cell_type": "code",
   "execution_count": 168,
   "metadata": {},
   "outputs": [],
   "source": [
    "# Model Selection & Evaluation Metric is the Recall\n",
    "\n",
    "# Naive Bayes has the best probability of detection by %38. For credit scoring, TP and FN values are more important than FP\n",
    "\n",
    "# Models aim to decrease false negatives and to increase true positives"
   ]
  },
  {
   "cell_type": "code",
   "execution_count": null,
   "metadata": {},
   "outputs": [],
   "source": []
  }
 ],
 "metadata": {
  "kernelspec": {
   "display_name": "Python 3",
   "language": "python",
   "name": "python3"
  },
  "language_info": {
   "codemirror_mode": {
    "name": "ipython",
    "version": 3
   },
   "file_extension": ".py",
   "mimetype": "text/x-python",
   "name": "python",
   "nbconvert_exporter": "python",
   "pygments_lexer": "ipython3",
   "version": "3.7.6"
  }
 },
 "nbformat": 4,
 "nbformat_minor": 2
}
